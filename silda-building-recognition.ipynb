{
 "cells": [
  {
   "cell_type": "markdown",
   "metadata": {},
   "source": [
    "# Few-shot building recognition using SILDa images\n",
    "\n",
    "This assumes that the data are already downloaded. If not, please run in a terminal\n",
    "```bash\n",
    "sh download.sh\n",
    "```\n",
    "\n",
    "More details on the `readme.md`."
   ]
  },
  {
   "cell_type": "code",
   "execution_count": 1,
   "metadata": {},
   "outputs": [],
   "source": [
    "import numpy as np\n",
    "import h5py\n",
    "from tqdm import tqdm"
   ]
  },
  {
   "cell_type": "markdown",
   "metadata": {},
   "source": [
    "## Get the building labels for the train images\n",
    "We provide GT labels of the buildings seen in each of the training images. Note that we filter out cases where only a very small part of the building is visible to avoid misclassification. For each image, there is a number associated with each building, which is the amount of points observed, and it can be though as a measure of the size of this building in the image (high number means higher area of buiding visible on the image).  \n",
    "\n",
    "The `train_imgs_labels` dictionary shown below, contains information about the visible buildings for each training image. The keys are the image names. E.g. \n",
    "\n",
    "```\n",
    "{'130_0.png': {'buildings_names': ['blackett-laboratory', 'bulgarian-embassy', 'huxley-building'], 'buildings_points_count': ['16', '26', '623']}\n",
    "```\n",
    "indicates that in the `130_0.png` images, three buildings are clearly visible (`blackett-laboratory`, `bulgarian-embassy`, `huxley-building`), with `huxley-building` occupying the largest area."
   ]
  },
  {
   "cell_type": "code",
   "execution_count": 2,
   "metadata": {},
   "outputs": [
    {
     "name": "stdout",
     "output_type": "stream",
     "text": [
      "All the avaiable buildings in the dataset: ['bulgarian-embassy', 'australian-embassy', 'albert-court', 'city-and-guilds', 'blackett-laboratory', 'dyson-school-of-design-engineering', 'chemistry-building', '59-exhibition-road', 'rectors-official-residence', 'imperial-innovations', 'bangladesh-high-comission', 'school-of-mines', 'imperial-college-business-school', 'beit', 'the-church-of-jesus-christ-latter-day-saints', 'embassy-of-the-republic-of-iraq', 'library', 'sir-ernst-chain-building', 'skempton-building', 'royal-thai-embassy', 'chemistry-rcs1', 'memorial-to-the-great-exhibition', 'queens-tower', 'exhibition-road-facade', 'sir-alexander-fleming', 'holy-trinitry', 'queens-gate-hotel', 'queens-gate-flats', 'royal-college-of-music', 'huxley-building', 'oriel-house', 'jamaican-high-comission', 'queens-gate-35', 'ognisko-restaurant', 'alexandra-court']\n"
     ]
    }
   ],
   "source": [
    "train_imgs_buildings = [line.strip().split() for line in open(\"./data/SILDa/train-buildings.txt\", 'r')]\n",
    "train_imgs_labels = {}\n",
    "all_buildings = []\n",
    "for labels in train_imgs_buildings:\n",
    "    buildings_names = labels[1::2]\n",
    "    buildings_points_count = labels[2::2]\n",
    "    all_buildings.extend(buildings_names)\n",
    "    train_imgs_labels[labels[0]] = {\"buildings_names\":buildings_names,\n",
    "                                    \"buildings_points_count\":buildings_points_count}\n",
    "all_buildings = list(set(all_buildings))\n",
    "print(\"All the avaiable buildings in the dataset: {}\".format(all_buildings))"
   ]
  },
  {
   "cell_type": "markdown",
   "metadata": {},
   "source": [
    "## Predict the building labels for the test images\n",
    "You can use your own few-shot learning method to learn a classifier that predicts building labels for each of the test set images, and upload the results to us for the evaluation (The building labels for the test images are not published).\n",
    "Below, we provide code that shows the required format for the submission. "
   ]
  },
  {
   "cell_type": "code",
   "execution_count": 4,
   "metadata": {},
   "outputs": [
    {
     "name": "stderr",
     "output_type": "stream",
     "text": [
      "100%|██████████| 6064/6064 [00:03<00:00, 1917.09it/s]\n"
     ]
    }
   ],
   "source": [
    "query_imgs = [line.strip() for line in open(\"./data/SILDa/query-imgs.txt\", 'r')]\n",
    "# Fill in submission information - IMPORTANT\n",
    "METHOD_NAME = \"Random-Building-Classifier\"\n",
    "AUTHOR_NAME = \"Jack Builder\"\n",
    "AUTHOR_EMAIL = \"jack@builders.com\"\n",
    "\n",
    "buildings = h5py.File(METHOD_NAME+'-silda-buildings.h5', 'w')\n",
    "\n",
    "for img_idx in tqdm(query_imgs):\n",
    "    # Obviously this is not a smart method, since it returns random building labels for each test image.\n",
    "    # The required format for each test image is a list with N buildings, where N can either be 0, 1, or more. \n",
    "    # For illustration purposes, below we just randomly \"predict\" 3 buildings for each test image.\n",
    "    pred_buildings =  np.random.choice(all_buildings, 3)\n",
    "    pred_buildings = [str.encode(x) for x in pred_buildings]\n",
    "    buildings.create_dataset(img_idx, data=pred_buildings)\n",
    "\n",
    "buildings['method_name'] = np.string_(METHOD_NAME) \n",
    "buildings['contact_name'] = np.string_(AUTHOR_NAME) \n",
    "buildings['contact_email'] = np.string_(AUTHOR_EMAIL) \n",
    "buildings.close()  "
   ]
  },
  {
   "cell_type": "markdown",
   "metadata": {},
   "source": [
    "# Submission guidelines\n",
    "`Random-Building-Classifier-silda-buildings.h5` now contains the 'predictions' for the simple `Random-Building-Classifier` method. \n",
    "Replace the classification/prediction process with your own method, and do not forget to fill in the required information as shown below:\n",
    "\n",
    "```python\n",
    "# Fill in submission information - IMPORTANT\n",
    "METHOD_NAME = \"Random-Building-Classifier\"\n",
    "AUTHOR_NAME = \"Jack Builder\"\n",
    "AUTHOR_EMAIL = \"jack@builders.com\"\n",
    "```\n",
    "\n",
    "Finally, please upload the resulting `.h5` file [using this link](https://www.dropbox.com/request/5eQhO1vaaNx3uJ9bVuky?oref=e)\n",
    "\n",
    "\n",
    "\n",
    "If for any reason the above link does not work, or you cannot access it please send an email to [vassileios@scape.io](mailto:vassileios@scape.io)"
   ]
  },
  {
   "cell_type": "code",
   "execution_count": null,
   "metadata": {},
   "outputs": [],
   "source": []
  }
 ],
 "metadata": {
  "kernelspec": {
   "display_name": "Python 3",
   "language": "python",
   "name": "python3"
  },
  "language_info": {
   "codemirror_mode": {
    "name": "ipython",
    "version": 3
   },
   "file_extension": ".py",
   "mimetype": "text/x-python",
   "name": "python",
   "nbconvert_exporter": "python",
   "pygments_lexer": "ipython3",
   "version": "3.6.7"
  }
 },
 "nbformat": 4,
 "nbformat_minor": 2
}
