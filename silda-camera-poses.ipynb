{
 "cells": [
  {
   "cell_type": "markdown",
   "metadata": {},
   "source": [
    "# Computing poses for the SILDa query images\n",
    "\n",
    "This assumes that the data are already downloaded. If not, please run in a terminal\n",
    "```bash\n",
    "sh download.sh\n",
    "```\n",
    "\n",
    "More details on the `readme.md`."
   ]
  },
  {
   "cell_type": "code",
   "execution_count": 1,
   "metadata": {},
   "outputs": [],
   "source": [
    "import numpy as np\n",
    "import h5py\n",
    "from tqdm import tqdm"
   ]
  },
  {
   "cell_type": "code",
   "execution_count": 2,
   "metadata": {},
   "outputs": [],
   "source": [
    "query_imgs = [line.strip() for line in open(\"data/SILDa/query-imgs.txt\", 'r')]"
   ]
  },
  {
   "cell_type": "code",
   "execution_count": 3,
   "metadata": {},
   "outputs": [
    {
     "name": "stderr",
     "output_type": "stream",
     "text": [
      "100%|██████████| 6064/6064 [00:01<00:00, 3100.97it/s]\n"
     ]
    }
   ],
   "source": [
    "# Fill in submission information - IMPORTANT\n",
    "METHOD_NAME = \"Static-Camera-Pose-Estimator\"\n",
    "AUTHOR_NAME = \"Jack Poser\"\n",
    "AUTHOR_EMAIL = \"jack@poses.com\"\n",
    "\n",
    "poses = h5py.File(METHOD_NAME+'-silda-camera-poses.h5', 'w')\n",
    "\n",
    "for img_idx in tqdm(query_imgs):\n",
    "    # Obviously this is not a smart method, since it returns a static pose for each query image.\n",
    "    # We just show this to describe the submission format\n",
    "    # The required pose format for each query image is a 7-dim vector with the rotation quaternion, \n",
    "    # and the translation vector. The order needs to be:\n",
    "    # qw,qx,qy,qz,tx,ty,tz\n",
    "    # The parameters should be described in terms of camera to world transformations\n",
    "    pose = np.asarray([[0.49118, 0.38666, -0.48338, -0.61284, 67.25079, -137.26304, 1.44914]])\n",
    "    poses.create_dataset(img_idx, data=pose)\n",
    "\n",
    "poses['method_name'] = np.string_(METHOD_NAME) \n",
    "poses['contact_name'] = np.string_(AUTHOR_NAME) \n",
    "poses['contact_email'] = np.string_(AUTHOR_EMAIL) \n",
    "poses.close()  "
   ]
  },
  {
   "cell_type": "markdown",
   "metadata": {},
   "source": [
    "# Camera parameters\n",
    "Since these are spherical images, the normal $K$ matrix method, is not suitable for projecting pixel positions to rays (directions). Methods that rely on local matches, need to be able to compute the ray (direction) for each pixel on each image. Thus, we provide a suitable function, in the `silda-utils.py` file that does this.\n",
    "\n",
    "Below we show how to compute ray directions as an examples for the pixels `(200,200)` and `(1000,1000)` in a 1024 dimensional image."
   ]
  },
  {
   "cell_type": "code",
   "execution_count": 4,
   "metadata": {},
   "outputs": [
    {
     "name": "stdout",
     "output_type": "stream",
     "text": [
      "200,200->\n",
      " [[-0.70233028]\n",
      " [-0.71168844]\n",
      " [ 0.01522309]]\n",
      "1000,1000->\n",
      " [[ 0.57178529]\n",
      " [ 0.56701843]\n",
      " [-0.59291794]]\n"
     ]
    }
   ],
   "source": [
    "from silda_utils import SildaLens, spherical_coordinates_to_spherical_rays\n",
    "# Load the lens parameters for a specific image, e.g. 0_0\n",
    "lens = SildaLens('./data/SILDa/camera-intrinsics/7000_0.intrinsics')\n",
    "# Convert a pixel position (e.g. 200,200) to a spherical ray.\n",
    "# Returns a direction on the 3-dimensional unit sphere, given by the\n",
    "# vector from (0,0,0) to r\n",
    "r = spherical_coordinates_to_spherical_rays(\n",
    "    np.array([[200, 200]]).T, lens, image_size=1024)\n",
    "print(\"200,200->\\n\", r)\n",
    "\n",
    "r = spherical_coordinates_to_spherical_rays(\n",
    "    np.array([[1000, 1000]]).T, lens, image_size=1024)\n",
    "print(\"1000,1000->\\n\", r)"
   ]
  },
  {
   "cell_type": "markdown",
   "metadata": {},
   "source": [
    "# Submission guidelines\n",
    "`Static-Camera-Pose-Estimator-silda-camera-poses.h5` now contains the poses for the simple `Static-Camera-Pose-Estimator` method example. \n",
    "Replace the camera pose estimation process with your method, and do not forget to fill in the required information as shown below:\n",
    "\n",
    "```python\n",
    "# Fill in submission information - IMPORTANT\n",
    "METHOD_NAME = \"Static-Camera-Pose-Estimator\"\n",
    "AUTHOR_NAME = \"Jack Poser\"\n",
    "AUTHOR_EMAIL = \"jack@poses.com\"\n",
    "```\n",
    "\n",
    "Finally, please upload the resulting `.h5` file [using this link](https://www.dropbox.com/request/FU1NeBuFRsdVUd4WOu2m?oref=e)\n",
    "\n",
    "If for any reason the above link does not work, or you cannot access it please send an email to [vassileios@scape.io](mailto:vassileios@scape.io)"
   ]
  },
  {
   "cell_type": "code",
   "execution_count": null,
   "metadata": {},
   "outputs": [],
   "source": []
  }
 ],
 "metadata": {
  "kernelspec": {
   "display_name": "Python 3",
   "language": "python",
   "name": "python3"
  },
  "language_info": {
   "codemirror_mode": {
    "name": "ipython",
    "version": 3
   },
   "file_extension": ".py",
   "mimetype": "text/x-python",
   "name": "python",
   "nbconvert_exporter": "python",
   "pygments_lexer": "ipython3",
   "version": "3.6.7"
  }
 },
 "nbformat": 4,
 "nbformat_minor": 2
}
